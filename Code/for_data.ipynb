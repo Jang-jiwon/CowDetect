{
  "nbformat": 4,
  "nbformat_minor": 0,
  "metadata": {
    "colab": {
      "name": "for_data",
      "provenance": [],
      "collapsed_sections": [
        "WZbxS-cEQKiQ"
      ]
    },
    "kernelspec": {
      "name": "python3",
      "display_name": "Python 3"
    },
    "language_info": {
      "name": "python"
    }
  },
  "cells": [
    {
      "cell_type": "markdown",
      "source": [
        "#데이터 가져오기"
      ],
      "metadata": {
        "id": "KLMaQMwtQBMh"
      }
    },
    {
      "cell_type": "markdown",
      "source": [
        "## wget다운로드 사용"
      ],
      "metadata": {
        "id": "N0N3uwPkQGOE"
      }
    },
    {
      "cell_type": "code",
      "execution_count": null,
      "metadata": {
        "id": "Mc1uwqdkPc3k"
      },
      "outputs": [],
      "source": [
        "#https://drive.google.com/file/d/1FaYd4fOZwLCpQ9k9uGwtWOiVNlZ8bykP/view?usp=sharing\n",
        "!wget --load-cookies ~/cookies.txt \"https://docs.google.com/uc?export=download&confirm=$(wget --quiet --save-cookies ~/cookies.txt --keep-session-cookies --no-check-certificate 'https://docs.google.com/uc?export=download&id=1FaYd4fOZwLCpQ9k9uGwtWOiVNlZ8bykP' -O- | sed -rn 's/.*confirm=([0-9A-Za-z_]+).*/\\1\\n/p')&id=1FaYd4fOZwLCpQ9k9uGwtWOiVNlZ8bykP\" -O data.zip && rm -rf ~/cookies.txt"
      ]
    },
    {
      "cell_type": "code",
      "source": [
        "mkdir data"
      ],
      "metadata": {
        "id": "L4vDj-UYPxqn"
      },
      "execution_count": 2,
      "outputs": []
    },
    {
      "cell_type": "code",
      "source": [
        "cd data"
      ],
      "metadata": {
        "id": "4wxrzq52P1b0"
      },
      "execution_count": null,
      "outputs": []
    },
    {
      "cell_type": "code",
      "source": [
        "!unzip /content/data.zip"
      ],
      "metadata": {
        "id": "GET4zUbgPoDF"
      },
      "execution_count": null,
      "outputs": []
    },
    {
      "cell_type": "code",
      "source": [
        "rm /content/data.zip"
      ],
      "metadata": {
        "id": "GUJu8IHYVjQA"
      },
      "execution_count": 5,
      "outputs": []
    },
    {
      "cell_type": "markdown",
      "source": [
        "## 구글 드라이브 사용"
      ],
      "metadata": {
        "id": "WZbxS-cEQKiQ"
      }
    },
    {
      "cell_type": "code",
      "source": [
        "from google.colab import drive\n",
        "drive.mount('/content/drive')"
      ],
      "metadata": {
        "id": "f9BWiP_pPqVB"
      },
      "execution_count": null,
      "outputs": []
    },
    {
      "cell_type": "markdown",
      "source": [
        "# 데이터 디렉토리 나누기\n"
      ],
      "metadata": {
        "id": "h6TXYmUaQSdK"
      }
    },
    {
      "cell_type": "code",
      "source": [
        "cd /content"
      ],
      "metadata": {
        "id": "8EIcfUZASWbB"
      },
      "execution_count": null,
      "outputs": []
    },
    {
      "cell_type": "code",
      "source": [
        "mkdir Data Data/train Data/val Data/train/images Data/train/labels Data/val/labels Data/val/images"
      ],
      "metadata": {
        "id": "Atoj4w8RRLlK"
      },
      "execution_count": 13,
      "outputs": []
    },
    {
      "cell_type": "code",
      "source": [
        "cd /content/data"
      ],
      "metadata": {
        "id": "ZHCgXFq3dWwk"
      },
      "execution_count": null,
      "outputs": []
    },
    {
      "cell_type": "code",
      "source": [
        "import shutil\n",
        "import os\n",
        "file_source = '/content/data'\n",
        "get_files = os.listdir(file_source)"
      ],
      "metadata": {
        "id": "Mzz7HdibVbwM"
      },
      "execution_count": 15,
      "outputs": []
    },
    {
      "cell_type": "code",
      "source": [
        "len(get_files)"
      ],
      "metadata": {
        "id": "RAOBViNfWveB"
      },
      "execution_count": null,
      "outputs": []
    },
    {
      "cell_type": "code",
      "source": [
        "print(\"train : \",len(get_files)*0.85)\n",
        "print(\"valid : \",len(get_files)*0.15)"
      ],
      "metadata": {
        "id": "S9E5ivAAWxuV"
      },
      "execution_count": null,
      "outputs": []
    },
    {
      "cell_type": "code",
      "source": [
        "for i in range(len(get_files)):\n",
        "  if i < len(get_files)*0.85 :\n",
        "    if get_files[i].endswith('txt'):\n",
        "      shutil.move('/content/data/'+get_files[i], '/content/Data/train/labels')\n",
        "    else :\n",
        "      shutil.move('/content/data/'+get_files[i], '/content/Data/train/images')\n",
        "  else :\n",
        "    if get_files[i].endswith('txt'):\n",
        "      shutil.move('/content/data/'+get_files[i], '/content/Data/val/labels')\n",
        "    else :\n",
        "      shutil.move('/content/data/'+get_files[i], '/content/Data/val/images')"
      ],
      "metadata": {
        "id": "M5-CFKNlVg-l"
      },
      "execution_count": 18,
      "outputs": []
    },
    {
      "cell_type": "markdown",
      "source": [
        "# 파일명 수정"
      ],
      "metadata": {
        "id": "HAX7morFSviI"
      }
    },
    {
      "cell_type": "code",
      "source": [
        "cd /content/data"
      ],
      "metadata": {
        "id": "YuF6Na4USicf"
      },
      "execution_count": null,
      "outputs": []
    },
    {
      "cell_type": "code",
      "source": [
        "import shutil\n",
        "import os\n",
        " \n",
        "file_source = '/content/data'\n",
        "get_files = os.listdir(file_source)"
      ],
      "metadata": {
        "id": "d7MQSzLLQXuv"
      },
      "execution_count": 7,
      "outputs": []
    },
    {
      "cell_type": "code",
      "source": [
        "for i in get_files :\n",
        "  newName = i.replace('(', '')\n",
        "  newName = newName.replace(')', '')\n",
        "  os.rename(i,newName)"
      ],
      "metadata": {
        "id": "dJpV36UQSmtx"
      },
      "execution_count": 8,
      "outputs": []
    },
    {
      "cell_type": "code",
      "source": [
        "file_source = '/content/data'\n",
        "get_files = os.listdir(file_source)"
      ],
      "metadata": {
        "id": "U9GJ2sFHVD0Z"
      },
      "execution_count": 9,
      "outputs": []
    },
    {
      "cell_type": "code",
      "source": [
        "for i in get_files :\n",
        "  newName = i.replace(' ', '')\n",
        "  os.rename(i,newName)"
      ],
      "metadata": {
        "id": "OKug92ntVB_s"
      },
      "execution_count": 10,
      "outputs": []
    },
    {
      "cell_type": "code",
      "source": [
        "len(get_files)"
      ],
      "metadata": {
        "id": "j84TicUXVL_h"
      },
      "execution_count": null,
      "outputs": []
    },
    {
      "cell_type": "markdown",
      "source": [
        "# 폴더 압축하기"
      ],
      "metadata": {
        "id": "cKi0tIH8aocW"
      }
    },
    {
      "cell_type": "code",
      "source": [
        "import zipfile\n",
        "import os\n",
        "import shutil\n",
        "shutil.make_archive('/content/Cow', 'zip', '/content/Data')#output , 파일포맷, input"
      ],
      "metadata": {
        "id": "WJY4kJRnan9Q"
      },
      "execution_count": null,
      "outputs": []
    },
    {
      "cell_type": "markdown",
      "source": [
        "# 라벨링"
      ],
      "metadata": {
        "id": "Hoh-fWVxNBxD"
      }
    },
    {
      "cell_type": "code",
      "source": [
        "import shutil\n",
        "import os\n",
        "file_source = '/content/drive/MyDrive/cow/data0531/images/train'\n",
        "names = os.listdir(file_source)"
      ],
      "metadata": {
        "id": "4ALi554nN9xP"
      },
      "execution_count": null,
      "outputs": []
    },
    {
      "cell_type": "code",
      "source": [
        "img_path='/path'  #수정해서사용하기\n",
        "for name in names :\n",
        "  if name[:-3].endswith('.'):\n",
        "    f = open(img_path+name[:-3]+\"txt\", 'w') #/content/cow/labels/ + 551. + txt\n",
        "    f.write('0 0.5 0.5 1.0 1.0')\n",
        "    f.close()\n",
        "  else :\n",
        "    print(name)"
      ],
      "metadata": {
        "id": "juMXgSOdOK-D"
      },
      "execution_count": null,
      "outputs": []
    }
  ]
}